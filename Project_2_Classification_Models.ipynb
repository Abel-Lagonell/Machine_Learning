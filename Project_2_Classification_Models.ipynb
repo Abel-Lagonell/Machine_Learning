{
  "nbformat": 4,
  "nbformat_minor": 0,
  "metadata": {
    "colab": {
      "provenance": []
    },
    "kernelspec": {
      "name": "python3",
      "display_name": "Python 3"
    },
    "language_info": {
      "name": "python"
    }
  },
  "cells": [
    {
      "cell_type": "markdown",
      "source": [
        "# Project 2: Customer Exit Prediction\n",
        "\n",
        "# Introduction:\n",
        "\n",
        "*   In this project, you will predict whether a customer will exit (CustomerExit) based on various service and demographic features.\n",
        "*   You will conduct data exploration, preprocessing, and train machine learning models to predict customer exit.\n",
        "*   Finally, you'll evaluate the models using classification metrics.\n",
        "\n",
        "**Datasets Locations and Names:** Canvas -> Modules -> Week 10 -> Dataset -> \"customer_exit.csv\".\n",
        "\n",
        "Please save your Google Colab project as FirstName_LastName_Project2.ipynb and submit (upload) your source code to Canvas."
      ],
      "metadata": {
        "id": "8yH2yRFXZhG5"
      }
    },
    {
      "cell_type": "markdown",
      "source": [
        "# Dataset Description:\n",
        "\n",
        "* **ServiceFee:** Monthly fee the customer pays.\n",
        "* **SubscriptionType:** Type of contract (e.g., month-to-month, yearly).\n",
        "* **MembershipDuration**: How many months the customer has been with the service.\n",
        "* **CumulativeCharges:** Total amount billed to the customer.\n",
        "* **Age:** Age of the customer.\n",
        "* **Gender:** Gender of the customer.\n",
        "* **CustomerExit:** The target variable, indicating whether the customer left (1 = exit, 0 = stays)."
      ],
      "metadata": {
        "id": "hvj6cOY2ddo6"
      }
    },
    {
      "cell_type": "markdown",
      "source": [
        "# Task 1: Exploratory Data Analysis (EDA)\n",
        "* Visualize the distribution of the target variable (`CustomerExit`).\n",
        "* Create scatter plots or histograms to explore relationships between features.\n",
        "* Check for missing values."
      ],
      "metadata": {
        "id": "7lz_6tTOdz1W"
      }
    },
    {
      "cell_type": "code",
      "source": [
        "# Your EDA code here"
      ],
      "metadata": {
        "id": "a60ecTNncsT4"
      },
      "execution_count": null,
      "outputs": []
    },
    {
      "cell_type": "markdown",
      "source": [
        "# Task 2: Data Preprocessing with Pipelines and Feature Extraction\n",
        "* Use Pipeline for handling missing values, scaling, and feature extraction.\n",
        "* Use ColumnTransformer for applying different transformations to numeric and categorical features."
      ],
      "metadata": {
        "id": "8MC6pIgReEuf"
      }
    },
    {
      "cell_type": "code",
      "source": [
        "# Your data preprocessing code here"
      ],
      "metadata": {
        "id": "T13lmcZoeOCG"
      },
      "execution_count": null,
      "outputs": []
    },
    {
      "cell_type": "markdown",
      "source": [
        "# Task 3: Train Classification Models\n",
        "Train at least 5 classification models within a pipeline:"
      ],
      "metadata": {
        "id": "JAtOwTMPeQRP"
      }
    },
    {
      "cell_type": "code",
      "source": [
        "# Your model training code here"
      ],
      "metadata": {
        "id": "z_q7C6hMgraQ"
      },
      "execution_count": null,
      "outputs": []
    },
    {
      "cell_type": "markdown",
      "source": [
        "# Task 4: Model Evaluation\n",
        "* Evaluate your models using k-fold cross-validation (at least 5 folds) to assess how well the models generalize.\n",
        "* Calculate and report the average accuracy, precision, recall, specificity, and F1-score from the cross-validation.\n",
        "* Compare and discuss models based on their cross-validated performance.\n"
      ],
      "metadata": {
        "id": "rhU93yAPg18J"
      }
    },
    {
      "cell_type": "code",
      "source": [
        "# Your model evaluation code here"
      ],
      "metadata": {
        "id": "0igIbgdqhCAO"
      },
      "execution_count": null,
      "outputs": []
    },
    {
      "cell_type": "markdown",
      "source": [
        "# Task 5: Hyperparameter Tuning with GridSearchCV\n",
        "* Apply GridSearchCV to your best model for hyperparameter tuning."
      ],
      "metadata": {
        "id": "c840ne5ygs4Z"
      }
    },
    {
      "cell_type": "code",
      "source": [
        "# Your GridSearchCV code here"
      ],
      "metadata": {
        "id": "OnIZAwKjg00L"
      },
      "execution_count": null,
      "outputs": []
    },
    {
      "cell_type": "markdown",
      "source": [
        "# Conclusion:\n",
        "* Summarize your findings and explain any interesting insights from your analysis."
      ],
      "metadata": {
        "id": "bWFOvjSshEd5"
      }
    }
  ]
}