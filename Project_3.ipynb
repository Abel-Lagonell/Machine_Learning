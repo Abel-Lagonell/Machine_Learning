{
  "nbformat": 4,
  "nbformat_minor": 0,
  "metadata": {
    "colab": {
      "provenance": []
    },
    "kernelspec": {
      "name": "python3",
      "display_name": "Python 3"
    },
    "language_info": {
      "name": "python"
    }
  },
  "cells": [
    {
      "cell_type": "markdown",
      "source": [
        "# **Project-3**\n",
        "\n",
        "***Project Title:*** Customer Segmentation\n",
        "\n",
        "***Project Description:*** In this project, you will build a machine learning model to segment customers based on their demographics and spending behavior. The data set includes information on customers' age, gender, annual income, and spending score (a metric assigned by the mall based on how much customers spend and how often they visit).\n",
        "\n",
        "***Dataset Details:*** The data set contains 200 records of customers.\n",
        "\n",
        "***Datasets Location:*** Canvas -> Modules -> Week 13 -> Dataset -> **\"customers.csv\"**.\n",
        "\n",
        "***Tasks:***\n",
        "\n",
        "1) *Data Exploration and Preprocessing:* You will explore the data set, handle missing values, perform feature engineering, and preprocess the data to get it ready for model building.\n",
        "\n",
        "2) *Model Building:* You will train and evaluate several unsupervised clustering models on the preprocessed data set, including k-means clustering and DBSCAN.\n",
        "\n",
        "3) *Model Evaluation:* You will evaluate the clustering results using silhouette and inertia scores. You will also analyze the resulting customer segments and interpret their characteristics.\n",
        "\n",
        "4) *Deployment:* Once you have identified the customer segments, you can use them to personalize marketing campaigns, improve customer retention, and optimize product recommendations.\n",
        "\n",
        "This project will give you hands-on experience with unsupervised clustering, data preprocessing, and model evaluation. It also has real-world applications in marketing and e-commerce, where customer segmentation can help businesses tailor their offerings to different customer groups.\n"
      ],
      "metadata": {
        "id": "ckxZHgMRlAp7"
      }
    }
  ]
}